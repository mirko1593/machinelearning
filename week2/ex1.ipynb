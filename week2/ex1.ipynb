{
 "cells": [
  {
   "cell_type": "code",
   "execution_count": 5,
   "id": "afc8ce6f-b12a-463a-9809-22965c60e8bd",
   "metadata": {},
   "outputs": [
    {
     "name": "stdout",
     "output_type": "stream",
     "text": [
      "\u001b[33mWARNING: Skipping /opt/homebrew/lib/python3.12/site-packages/six-1.16.0-py3.12.egg-info due to invalid metadata entry 'name'\u001b[0m\u001b[33m\n",
      "\u001b[0m\u001b[33mWARNING: Skipping /opt/homebrew/lib/python3.12/site-packages/six-1.16.0-py3.12.egg-info due to invalid metadata entry 'name'\u001b[0m\u001b[33m\n",
      "\u001b[0mCollecting numpy\n",
      "  Downloading numpy-1.26.2-cp312-cp312-macosx_11_0_arm64.whl.metadata (61 kB)\n",
      "\u001b[2K     \u001b[38;2;114;156;31m━━━━━━━━━━━━━━━━━━━━━━━━━━━━━━━━━━━━━━━━\u001b[0m \u001b[32m61.2/61.2 kB\u001b[0m \u001b[31m3.0 MB/s\u001b[0m eta \u001b[36m0:00:00\u001b[0m\n",
      "\u001b[?25hDownloading numpy-1.26.2-cp312-cp312-macosx_11_0_arm64.whl (13.7 MB)\n",
      "\u001b[2K   \u001b[38;2;114;156;31m━━━━━━━━━━━━━━━━━━━━━━━━━━━━━━━━━━━━━━━━\u001b[0m \u001b[32m13.7/13.7 MB\u001b[0m \u001b[31m13.7 MB/s\u001b[0m eta \u001b[36m0:00:00\u001b[0mm eta \u001b[36m0:00:01\u001b[0m[36m0:00:01\u001b[0m\n",
      "\u001b[?25h\u001b[33mWARNING: Skipping /opt/homebrew/lib/python3.12/site-packages/six-1.16.0-py3.12.egg-info due to invalid metadata entry 'name'\u001b[0m\u001b[33m\n",
      "\u001b[0mInstalling collected packages: numpy\n",
      "\u001b[33mWARNING: Skipping /opt/homebrew/lib/python3.12/site-packages/six-1.16.0-py3.12.egg-info due to invalid metadata entry 'name'\u001b[0m\u001b[33m\n",
      "\u001b[0mSuccessfully installed numpy-1.26.2\n",
      "\u001b[33mWARNING: Skipping /opt/homebrew/lib/python3.12/site-packages/six-1.16.0-py3.12.egg-info due to invalid metadata entry 'name'\u001b[0m\u001b[33m\n",
      "\u001b[0m\u001b[33mWARNING: Skipping /opt/homebrew/lib/python3.12/site-packages/six-1.16.0-py3.12.egg-info due to invalid metadata entry 'name'\u001b[0m\u001b[33m\n",
      "\u001b[0m\u001b[33mWARNING: Skipping /opt/homebrew/lib/python3.12/site-packages/six-1.16.0-py3.12.egg-info due to invalid metadata entry 'name'\u001b[0m\u001b[33m\n",
      "\u001b[0m"
     ]
    }
   ],
   "source": [
    "!pip3 install numpy"
   ]
  },
  {
   "cell_type": "code",
   "execution_count": 6,
   "id": "fbea6971-9e96-4e47-b713-e8d455f72fe6",
   "metadata": {},
   "outputs": [],
   "source": [
    "import numpy as np\n",
    "import time"
   ]
  },
  {
   "cell_type": "code",
   "execution_count": 9,
   "id": "64dd1473-536f-479e-bea3-ec228f9d92f3",
   "metadata": {},
   "outputs": [
    {
     "name": "stdout",
     "output_type": "stream",
     "text": [
      "a = [0. 0. 0. 0.], a.shape: (4,), a.dtype: float64\n",
      "a = [0. 0. 0. 0.], a.shape: (4,), a.dtype: float64\n",
      "a = [0.46627305 0.23700745 0.65774793 0.30057657], a.shape: (4,), a.dtype: float64\n"
     ]
    }
   ],
   "source": [
    "a = np.zeros(4)\n",
    "print(f\"a = {a}, a.shape: {a.shape}, a.dtype: {a.dtype}\")\n",
    "a = np.zeros((4,))\n",
    "print(f\"a = {a}, a.shape: {a.shape}, a.dtype: {a.dtype}\")\n",
    "a = np.random.random_sample(4)\n",
    "print(f\"a = {a}, a.shape: {a.shape}, a.dtype: {a.dtype}\")"
   ]
  },
  {
   "cell_type": "code",
   "execution_count": 11,
   "id": "8ccf4bb9-f303-4398-a6fd-e3d68a7dca72",
   "metadata": {},
   "outputs": [
    {
     "name": "stdout",
     "output_type": "stream",
     "text": [
      "a = [0. 1. 2. 3.], a.shape: (4,), a.dtype: float64\n",
      "a = [0.77617778 0.21828387 0.88945425 0.22693253], a.shape: (4,), a.dtype: float64\n"
     ]
    }
   ],
   "source": [
    "a = np.arange(4.)\n",
    "print(f\"a = {a}, a.shape: {a.shape}, a.dtype: {a.dtype}\")\n",
    "a = np.random.rand(4)\n",
    "print(f\"a = {a}, a.shape: {a.shape}, a.dtype: {a.dtype}\")"
   ]
  },
  {
   "cell_type": "code",
   "execution_count": 19,
   "id": "50fde1bc-c85c-468e-aecf-899a64845f53",
   "metadata": {},
   "outputs": [
    {
     "name": "stdout",
     "output_type": "stream",
     "text": [
      "a = [0 1 2 3 4 5 6 7 8 9], a.shape: (10,), a.dtype: int64\n",
      "a[2]: 2, shape: ()\n",
      "a[-1] = 9\n",
      "[0 1 2 3 4 5 6 7 8 9]\n",
      "a[1:7:2]: [1 3 5]\n",
      "c: [2 4 6], c[:]: [2 4 6]\n"
     ]
    }
   ],
   "source": [
    "a = np.arange(10)\n",
    "print(f\"a = {a}, a.shape: {a.shape}, a.dtype: {a.dtype}\")\n",
    "\n",
    "print(f\"a[2]: {a[2]}, shape: {a[2].shape}\")\n",
    "\n",
    "print(f\"a[-1] = {a[-1]}\")\n",
    "\n",
    "print(a)\n",
    "\n",
    "print(f\"a[1:7:2]: {a[1:7:2]}\")\n",
    "\n",
    "c = a[2:7:2]\n",
    "\n",
    "print(f\"c: {c}, c[:]: {c[:]}\")"
   ]
  },
  {
   "cell_type": "code",
   "execution_count": 27,
   "id": "bc88baed-06c4-44d2-8ed6-0dc0274bcee2",
   "metadata": {},
   "outputs": [
    {
     "name": "stdout",
     "output_type": "stream",
     "text": [
      "a: [1 2 3 4]\n",
      "-a: [-1 -2 -3 -4]\n",
      "a**2: [ 1  4  9 16]\n",
      "np.sum(a): 10\n",
      "np.mean(a): 2.5\n",
      "a+b: [0 0 0 0]\n",
      "5 * a: [ 5 10 15 20]\n",
      "np.dot(a, b): -30\n"
     ]
    }
   ],
   "source": [
    "a = np.array([1,2,3,4])\n",
    "print(f\"a: {a}\")\n",
    "\n",
    "print(f\"-a: {-a}\")\n",
    "\n",
    "print(f\"a**2: {a**2}\")\n",
    "\n",
    "print(f\"np.sum(a): {np.sum(a)}\")\n",
    "\n",
    "print(f\"np.mean(a): {np.mean(a)}\")\n",
    "\n",
    "b = -a\n",
    "\n",
    "print(f\"a+b: {a+b}\")\n",
    "\n",
    "print(f\"5 * a: {5 * a}\")\n",
    "\n",
    "print(f\"np.dot(a, b): {np.dot(a, b)}\")"
   ]
  },
  {
   "cell_type": "code",
   "execution_count": 30,
   "id": "a8631a00-8d27-4fb4-9406-1d9525100c0a",
   "metadata": {},
   "outputs": [],
   "source": [
    "def my_dot(a, b):\n",
    "    sum = 0\n",
    "    for i in range(a.shape[0]):\n",
    "        sum = sum + a[i] * b[i]\n",
    "\n",
    "    return sum"
   ]
  },
  {
   "cell_type": "code",
   "execution_count": 31,
   "id": "e0f1a31b-ae23-4d9e-9a31-821ee8eda9b4",
   "metadata": {},
   "outputs": [
    {
     "name": "stdout",
     "output_type": "stream",
     "text": [
      "my_dot(a, b): -30\n"
     ]
    }
   ],
   "source": [
    "print(f\"my_dot(a, b): {my_dot(a, b)}\")"
   ]
  },
  {
   "cell_type": "code",
   "execution_count": 34,
   "id": "08f7728c-8b24-459c-ab77-19ed521c1a30",
   "metadata": {},
   "outputs": [
    {
     "name": "stdout",
     "output_type": "stream",
     "text": [
      "np.dot(a, b) =  1291890006563070976.0000\n",
      "Vectorized version duration: 9.3131 ms \n"
     ]
    },
    {
     "name": "stderr",
     "output_type": "stream",
     "text": [
      "/var/folders/rr/7gflmfrj7fjfl4b7yvnh1vfc0000gn/T/ipykernel_92417/2522974284.py:4: RuntimeWarning: overflow encountered in scalar add\n",
      "  sum = sum + a[i] * b[i]\n"
     ]
    },
    {
     "name": "stdout",
     "output_type": "stream",
     "text": [
      "my_dot(a, b) =  1291890006563070976.0000\n",
      "Custom version duration: 1423.7251 ms \n"
     ]
    }
   ],
   "source": [
    "np.random.seed(1)\n",
    "a = np.arange(10000000)\n",
    "b = np.arange(10000000)\n",
    "\n",
    "tic = time.time()\n",
    "c = np.dot(a, b)\n",
    "toc = time.time()\n",
    "\n",
    "print(f\"np.dot(a, b) =  {c:.4f}\")\n",
    "print(f\"Vectorized version duration: {1000*(toc-tic):.4f} ms \")\n",
    "\n",
    "tic = time.time()\n",
    "c = my_dot(a, b)\n",
    "toc = time.time()\n",
    "\n",
    "print(f\"my_dot(a, b) =  {c:.4f}\")\n",
    "print(f\"Custom version duration: {1000*(toc-tic):.4f} ms \")\n",
    "\n",
    "del(a)\n",
    "del(b)"
   ]
  },
  {
   "cell_type": "code",
   "execution_count": 40,
   "id": "89f052b2-0676-42b0-8f20-aa31d84635b8",
   "metadata": {},
   "outputs": [
    {
     "name": "stdout",
     "output_type": "stream",
     "text": [
      "a: [[0. 0. 0. 0. 0.]], a.shape: (1, 5), a.dtype: float64\n",
      "a: [[0.]\n",
      " [0.]], a.shape: (2, 1), a.dtype: float64\n",
      "a: [[0.18626021]\n",
      " [0.34556073]], a.shape: (2, 1), a.dtype: float64\n",
      "a: [[1]\n",
      " [2]\n",
      " [3]], a.shape: (3, 1), a.dtype: int64\n"
     ]
    }
   ],
   "source": [
    "a = np.zeros((1, 5))\n",
    "print(f\"a: {a}, a.shape: {a.shape}, a.dtype: {a.dtype}\")\n",
    "\n",
    "a = np.zeros((2, 1))\n",
    "print(f\"a: {a}, a.shape: {a.shape}, a.dtype: {a.dtype}\")\n",
    "\n",
    "a = np.random.random_sample((2, 1))\n",
    "print(f\"a: {a}, a.shape: {a.shape}, a.dtype: {a.dtype}\")\n",
    "\n",
    "a = np.array([[1], [2], [3]])\n",
    "print(f\"a: {a}, a.shape: {a.shape}, a.dtype: {a.dtype}\")"
   ]
  },
  {
   "cell_type": "code",
   "execution_count": 44,
   "id": "102f025c-0aa8-4650-bf25-44f538966823",
   "metadata": {},
   "outputs": [
    {
     "name": "stdout",
     "output_type": "stream",
     "text": [
      "a: [[0 1]\n",
      " [2 3]\n",
      " [4 5]], a.shape: (3, 2)\n",
      "type(a[2, 0]): <class 'numpy.int64'>\n",
      "a[2].shape: (2,), a[2]: [4 5]\n"
     ]
    }
   ],
   "source": [
    "a = np.arange(6).reshape(-1, 2)\n",
    "\n",
    "print(f\"a: {a}, a.shape: {a.shape}\")\n",
    "\n",
    "print(f\"type(a[2, 0]): {type(a[2,0])}\")\n",
    "\n",
    "print(f\"a[2].shape: {a[2].shape}, a[2]: {a[2]}\")"
   ]
  }
 ],
 "metadata": {
  "kernelspec": {
   "display_name": "Python 3 (ipykernel)",
   "language": "python",
   "name": "python3"
  },
  "language_info": {
   "codemirror_mode": {
    "name": "ipython",
    "version": 3
   },
   "file_extension": ".py",
   "mimetype": "text/x-python",
   "name": "python",
   "nbconvert_exporter": "python",
   "pygments_lexer": "ipython3",
   "version": "3.12.0"
  }
 },
 "nbformat": 4,
 "nbformat_minor": 5
}
